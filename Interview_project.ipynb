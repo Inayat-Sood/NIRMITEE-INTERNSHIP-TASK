{
  "nbformat": 4,
  "nbformat_minor": 0,
  "metadata": {
    "colab": {
      "provenance": [],
      "gpuType": "T4"
    },
    "kernelspec": {
      "name": "python3",
      "display_name": "Python 3"
    },
    "language_info": {
      "name": "python"
    },
    "accelerator": "GPU"
  },
  "cells": [
    {
      "cell_type": "code",
      "source": [
        "!pip install pandas scikit-learn flask flask-restful\n"
      ],
      "metadata": {
        "colab": {
          "base_uri": "https://localhost:8080/"
        },
        "id": "aw29kE9KhU1q",
        "outputId": "481a90aa-d208-423b-915b-c51b9fd76d2a"
      },
      "execution_count": null,
      "outputs": [
        {
          "output_type": "stream",
          "name": "stdout",
          "text": [
            "Requirement already satisfied: pandas in /usr/local/lib/python3.10/dist-packages (2.0.3)\n",
            "Requirement already satisfied: scikit-learn in /usr/local/lib/python3.10/dist-packages (1.2.2)\n",
            "Requirement already satisfied: flask in /usr/local/lib/python3.10/dist-packages (2.2.5)\n",
            "Collecting flask-restful\n",
            "  Downloading Flask_RESTful-0.3.10-py2.py3-none-any.whl (26 kB)\n",
            "Requirement already satisfied: python-dateutil>=2.8.2 in /usr/local/lib/python3.10/dist-packages (from pandas) (2.8.2)\n",
            "Requirement already satisfied: pytz>=2020.1 in /usr/local/lib/python3.10/dist-packages (from pandas) (2023.4)\n",
            "Requirement already satisfied: tzdata>=2022.1 in /usr/local/lib/python3.10/dist-packages (from pandas) (2024.1)\n",
            "Requirement already satisfied: numpy>=1.21.0 in /usr/local/lib/python3.10/dist-packages (from pandas) (1.25.2)\n",
            "Requirement already satisfied: scipy>=1.3.2 in /usr/local/lib/python3.10/dist-packages (from scikit-learn) (1.11.4)\n",
            "Requirement already satisfied: joblib>=1.1.1 in /usr/local/lib/python3.10/dist-packages (from scikit-learn) (1.4.2)\n",
            "Requirement already satisfied: threadpoolctl>=2.0.0 in /usr/local/lib/python3.10/dist-packages (from scikit-learn) (3.5.0)\n",
            "Requirement already satisfied: Werkzeug>=2.2.2 in /usr/local/lib/python3.10/dist-packages (from flask) (3.0.3)\n",
            "Requirement already satisfied: Jinja2>=3.0 in /usr/local/lib/python3.10/dist-packages (from flask) (3.1.4)\n",
            "Requirement already satisfied: itsdangerous>=2.0 in /usr/local/lib/python3.10/dist-packages (from flask) (2.2.0)\n",
            "Requirement already satisfied: click>=8.0 in /usr/local/lib/python3.10/dist-packages (from flask) (8.1.7)\n",
            "Collecting aniso8601>=0.82 (from flask-restful)\n",
            "  Downloading aniso8601-9.0.1-py2.py3-none-any.whl (52 kB)\n",
            "\u001b[2K     \u001b[90m━━━━━━━━━━━━━━━━━━━━━━━━━━━━━━━━━━━━━━━━\u001b[0m \u001b[32m52.8/52.8 kB\u001b[0m \u001b[31m1.7 MB/s\u001b[0m eta \u001b[36m0:00:00\u001b[0m\n",
            "\u001b[?25hRequirement already satisfied: six>=1.3.0 in /usr/local/lib/python3.10/dist-packages (from flask-restful) (1.16.0)\n",
            "Requirement already satisfied: MarkupSafe>=2.0 in /usr/local/lib/python3.10/dist-packages (from Jinja2>=3.0->flask) (2.1.5)\n",
            "Installing collected packages: aniso8601, flask-restful\n",
            "Successfully installed aniso8601-9.0.1 flask-restful-0.3.10\n"
          ]
        }
      ]
    },
    {
      "cell_type": "code",
      "source": [
        "import pandas as pd\n",
        "import re\n",
        "from sklearn.feature_extraction.text import TfidfVectorizer\n",
        "from sklearn.metrics.pairwise import cosine_similarity"
      ],
      "metadata": {
        "id": "cykaZzBihU4u"
      },
      "execution_count": null,
      "outputs": []
    },
    {
      "cell_type": "code",
      "source": [
        "job_descriptions = pd.read_csv('/content/job_descriptions.csv')\n",
        "print(job_descriptions.head())"
      ],
      "metadata": {
        "colab": {
          "base_uri": "https://localhost:8080/"
        },
        "id": "zdlTCxRthU7T",
        "outputId": "d4161e2d-81a5-4c2b-94e5-618ce91b4237"
      },
      "execution_count": null,
      "outputs": [
        {
          "output_type": "stream",
          "name": "stdout",
          "text": [
            "   job_id                  job_title        company  \\\n",
            "0       1       Full Stack Developer       TechCorp   \n",
            "1       2             Data Scientist      DataWorks   \n",
            "2       3         Frontend Developer         WebGen   \n",
            "3       4          Backend Developer       CodeBase   \n",
            "4       5  Machine Learning Engineer  AI Innovators   \n",
            "\n",
            "                                                text  Unnamed: 4  Unnamed: 5  \\\n",
            "0  We are looking for a Full Stack Developer with...         NaN         NaN   \n",
            "1  Seeking a Data Scientist skilled in Python, ma...         NaN         NaN   \n",
            "2  Frontend Developer required with proficiency i...         NaN         NaN   \n",
            "3  Hiring a Backend Developer experienced in Pyth...         NaN         NaN   \n",
            "4  Machine Learning Engineer needed with expertis...         NaN         NaN   \n",
            "\n",
            "   Unnamed: 6  \n",
            "0         NaN  \n",
            "1         NaN  \n",
            "2         NaN  \n",
            "3         NaN  \n",
            "4         NaN  \n"
          ]
        }
      ]
    },
    {
      "cell_type": "code",
      "source": [
        "resumes = pd.read_csv('/content/resumes.csv')\n",
        "print(resumes.head())"
      ],
      "metadata": {
        "colab": {
          "base_uri": "https://localhost:8080/"
        },
        "id": "CzYEFRojhU9p",
        "outputId": "58abc6af-dbd9-4381-a225-7022de0b9a24"
      },
      "execution_count": null,
      "outputs": [
        {
          "output_type": "stream",
          "name": "stdout",
          "text": [
            "                             accomplishments_segment             degree  \\\n",
            "0                                                NaN  MS , B.TECH , PhD   \n",
            "1                                                NaN  B.E , MS , M.TECH   \n",
            "2  Successfully cleared and completed the course ...   MS , B.TECH , BS   \n",
            "3                                                NaN      B.E , MS , BS   \n",
            "4                                                NaN   MS , B.TECH , BS   \n",
            "\n",
            "                                   education_segment  \\\n",
            "0                                                NaN   \n",
            "1  M.Tech. Data Science\\nJSS Science And Technolo...   \n",
            "2  Degree\\nInstitute\\nBoard/University\\nYear\\nPer...   \n",
            "3                                                NaN   \n",
            "4                                                NaN   \n",
            "\n",
            "                         emails  \\\n",
            "0    sutarvinayak2063@gmail.com   \n",
            "1             pooj.vs@gmail.com   \n",
            "2  khandelwal.ashwin5@gmail.com   \n",
            "3                           NaN   \n",
            "4                           NaN   \n",
            "\n",
            "                                          job_titles  \\\n",
            "0                     full stack developer , student   \n",
            "1                                  software engineer   \n",
            "2                                                NaN   \n",
            "3  work from home , support analyst , software an...   \n",
            "4                        work from home , classifier   \n",
            "\n",
            "                                               links  \\\n",
            "0  https://github.com/ramsuthar305/SIH2019 , http...   \n",
            "1                                            pooj.vs   \n",
            "2  https://www.linkedin.com/in/ashwin-khandelwal-...   \n",
            "3                                                NaN   \n",
            "4  https://github.com/ajay1013/Titanic-ML-from-Di...   \n",
            "\n",
            "                                        misc_segment                  name  \\\n",
            "0                                                NaN          Prasad Nagar   \n",
            "1  06/2017 – 07/2019\\n07/2018 – 07/2019\\nmailto:p...     Software Engineer   \n",
            "2                                                NaN     Ashwin Khandelwal   \n",
            "3                                                NaN  Computer Engineering   \n",
            "4                                                NaN             Python   \n",
            "\n",
            "                                  objectives_segment          phone  ...  \\\n",
            "0                                                NaN  +919309161108  ...   \n",
            "1                                                NaN     7411786822  ...   \n",
            "2  I seek challenging environment to work in, tha...     9462710290  ...   \n",
            "3                                                NaN   919930485336  ...   \n",
            "4                                                NaN   918010295832  ...   \n",
            "\n",
            "                                                text  \\\n",
            "0  VINAYAK \\nSUTAR \\nLinkedIn  \\n+91 9309161108  ...   \n",
            "1  POOJA V S\\nSoftware Engineer\\nRich exposure to...   \n",
            "2  Ashwin Khandelwal          \\n Email id – khand...   \n",
            "3  Assessment\\nQ1. Why should you be hired for th...   \n",
            "4  Assessment\\nQ1. Why should you be hired for th...   \n",
            "\n",
            "                                        university_0  \\\n",
            "0                  national, mainpuri, uttar pradesh   \n",
            "1                      government, kandhamal, odisha   \n",
            "2  narsee monjee institute of management studies,...   \n",
            "3                           master, medak, telangana   \n",
            "4  greater noida institute of technology, gautam ...   \n",
            "\n",
            "                                        university_1  \\\n",
            "0                college of arts, sundargarh, odisha   \n",
            "1  vidya vardhaka college of engineering, mysore,...   \n",
            "2                                                NaN   \n",
            "3                                                NaN   \n",
            "4                                                NaN   \n",
            "\n",
            "                               university_2 university_3 university_4  \\\n",
            "0  school of engineering, ernakulam, kerala          NaN          NaN   \n",
            "1                                       NaN          NaN          NaN   \n",
            "2                                       NaN          NaN          NaN   \n",
            "3                                       NaN          NaN          NaN   \n",
            "4                                       NaN          NaN          NaN   \n",
            "\n",
            "  university_5                                                url  \\\n",
            "0          NaN  https://training-resumes.s3.ap-south-1.amazona...   \n",
            "1          NaN  https://training-resumes.s3.ap-south-1.amazona...   \n",
            "2          NaN  https://training-resumes.s3.ap-south-1.amazona...   \n",
            "3          NaN  https://training-resumes.s3.ap-south-1.amazona...   \n",
            "4          NaN  https://training-resumes.s3.ap-south-1.amazona...   \n",
            "\n",
            "  work_experience                                       work_segment  \n",
            "0             NaN                                                NaN  \n",
            "1             NaN  Merchandising System' using PL/SQL.\\nmaintain ...  \n",
            "2             NaN  Organization / Institute\\nDescription\\nBharat ...  \n",
            "3             1.0                                                NaN  \n",
            "4             NaN                                                NaN  \n",
            "\n",
            "[5 rows x 23 columns]\n"
          ]
        }
      ]
    },
    {
      "cell_type": "code",
      "source": [
        "job_descriptions['cleaned_text'] = job_descriptions['text'].apply(lambda x: x.lower())\n",
        "job_descriptions['cleaned_text'] = job_descriptions['cleaned_text'].apply(lambda x: re.sub(r'\\s+', ' ', x))\n",
        "job_descriptions['cleaned_text'] = job_descriptions['cleaned_text'].apply(lambda x: re.sub(r'\\W', ' ', x))\n",
        "job_descriptions['cleaned_text'] = job_descriptions['cleaned_text'].apply(lambda x: re.sub(r'\\d', '', x))"
      ],
      "metadata": {
        "id": "viugkiFLhVCm"
      },
      "execution_count": null,
      "outputs": []
    },
    {
      "cell_type": "code",
      "source": [
        "resumes['combined_text'] = resumes['text']\n",
        "resumes['combined_text'] = resumes['combined_text'].apply(lambda x: x.lower())\n",
        "resumes['combined_text'] = resumes['combined_text'].apply(lambda x: re.sub(r'\\s+', ' ', x))\n",
        "resumes['combined_text'] = resumes['combined_text'].apply(lambda x: re.sub(r'\\W', ' ', x))\n",
        "resumes['combined_text'] = resumes['combined_text'].apply(lambda x: re.sub(r'\\d', '', x))"
      ],
      "metadata": {
        "id": "b5pC7QCah6uM"
      },
      "execution_count": null,
      "outputs": []
    },
    {
      "cell_type": "code",
      "source": [
        "vectorizer = TfidfVectorizer(max_features=10000)\n",
        "job_description_vectors = vectorizer.fit_transform(job_descriptions['cleaned_text'])"
      ],
      "metadata": {
        "id": "RYkKvtxoh6w9"
      },
      "execution_count": null,
      "outputs": []
    },
    {
      "cell_type": "code",
      "source": [
        "resume_vectors = vectorizer.transform(resumes['combined_text'])"
      ],
      "metadata": {
        "id": "bbI2JNsHiFQ4"
      },
      "execution_count": null,
      "outputs": []
    },
    {
      "cell_type": "code",
      "source": [
        "print(job_description_vectors.shape)\n",
        "print(resume_vectors.shape)"
      ],
      "metadata": {
        "colab": {
          "base_uri": "https://localhost:8080/"
        },
        "id": "5-yefXkSiHKg",
        "outputId": "34012812-d71b-476d-b0ac-21f926f6c5a2"
      },
      "execution_count": null,
      "outputs": [
        {
          "output_type": "stream",
          "name": "stdout",
          "text": [
            "(10, 67)\n",
            "(1573, 67)\n"
          ]
        }
      ]
    },
    {
      "cell_type": "code",
      "source": [
        "similarity_scores = cosine_similarity(resume_vectors, job_description_vectors)"
      ],
      "metadata": {
        "id": "AviCgBP7iILq"
      },
      "execution_count": null,
      "outputs": []
    },
    {
      "cell_type": "code",
      "source": [
        "ranked_resumes = []\n",
        "for job_idx in range(similarity_scores.shape[1]):\n",
        "    ranked_resumes.append(resumes.assign(relevance=similarity_scores[:, job_idx]).sort_values(by='relevance', ascending=False))"
      ],
      "metadata": {
        "id": "u2LW3BpGiRV2"
      },
      "execution_count": null,
      "outputs": []
    },
    {
      "cell_type": "code",
      "source": [
        "import seaborn as sns\n",
        "import matplotlib.pyplot as plt"
      ],
      "metadata": {
        "id": "w1qavQK0iUg7"
      },
      "execution_count": null,
      "outputs": []
    },
    {
      "cell_type": "code",
      "source": [
        "top_10_resumes = ranked_resumes[0].head(10)\n"
      ],
      "metadata": {
        "id": "Z-H69yP8iWv4"
      },
      "execution_count": null,
      "outputs": []
    },
    {
      "cell_type": "code",
      "source": [
        "sns.barplot(x='relevance', y='name', data=top_10_resumes)\n",
        "plt.title('Top 10 Resumes for Job 1')\n",
        "plt.xlabel('Relevance Score')\n",
        "plt.ylabel('Resume')\n",
        "plt.show()"
      ],
      "metadata": {
        "colab": {
          "base_uri": "https://localhost:8080/",
          "height": 563
        },
        "id": "9pdnSUlgiY6L",
        "outputId": "391f1556-141d-43ed-f089-b81aad40c18f"
      },
      "execution_count": null,
      "outputs": [
        {
          "output_type": "stream",
          "name": "stderr",
          "text": [
            "/usr/local/lib/python3.10/dist-packages/IPython/core/pylabtools.py:151: UserWarning: Glyph 59819 (\\ue9ab) missing from current font.\n",
            "  fig.canvas.print_figure(bytes_io, **kw)\n",
            "/usr/local/lib/python3.10/dist-packages/IPython/core/pylabtools.py:151: UserWarning: Glyph 59824 (\\ue9b0) missing from current font.\n",
            "  fig.canvas.print_figure(bytes_io, **kw)\n"
          ]
        },
        {
          "output_type": "display_data",
          "data": {
            "text/plain": [
              "<Figure size 640x480 with 1 Axes>"
            ],
            "image/png": "[encoded data removed]"
          },
          "metadata": {}
        }
      ]
    },
    {
      "cell_type": "code",
      "source": [
        "from flask import Flask, request, jsonify\n",
        "from flask_restful import Api, Resource\n",
        "\n",
        "app = Flask(__name__)\n",
        "api = Api(app)\n",
        "\n",
        "class RankResumes(Resource):\n",
        "    def post(self):\n",
        "        data = request.get_json()\n",
        "        new_resumes = pd.DataFrame(data)\n",
        "        new_resumes['combined_text'] = new_resumes['text'].apply(lambda x: x.lower())\n",
        "        new_resumes['combined_text'] = new_resumes['combined_text'].apply(lambda x: re.sub(r'\\s+', ' ', x))\n",
        "        new_resumes['combined_text'] = new_resumes['combined_text'].apply(lambda x: re.sub(r'\\W', ' ', x))\n",
        "        new_resumes['combined_text'] = new_resumes['combined_text'].apply(lambda x: re.sub(r'\\d', '', x))\n",
        "\n",
        "        new_resume_vectors = vectorizer.transform(new_resumes['combined_text'])\n",
        "        job_id = request.args.get('job_id')\n",
        "        job_idx = job_descriptions[job_descriptions['job_id'] == int(job_id)].index[0]\n",
        "\n",
        "        similarity_scores = cosine_similarity(new_resume_vectors, job_description_vectors[job_idx])\n",
        "        new_resumes['relevance'] = similarity_scores[:, 0]\n",
        "        ranked_resumes = new_resumes.sort_values(by='relevance', ascending=False)\n",
        "\n",
        "        return jsonify(ranked_resumes[['name', 'relevance']].to_dict(orient='records'))\n",
        "\n",
        "api.add_resource(RankResumes, '/rank')\n",
        "\n",
        "if __name__ == '__main__':\n",
        "\n",
        "    app.run(host='localhost', port=5000, debug=True)\n"
      ],
      "metadata": {
        "colab": {
          "base_uri": "https://localhost:8080/"
        },
        "id": "aqlN7y6Bia5Z",
        "outputId": "cda9e9fc-b898-4f8a-9826-93296f47386a"
      },
      "execution_count": null,
      "outputs": [
        {
          "output_type": "stream",
          "name": "stdout",
          "text": [
            " * Serving Flask app '__main__'\n",
            " * Debug mode: on\n"
          ]
        },
        {
          "output_type": "stream",
          "name": "stderr",
          "text": [
            "INFO:werkzeug:\u001b[31m\u001b[1mWARNING: This is a development server. Do not use it in a production deployment. Use a production WSGI server instead.\u001b[0m\n",
            " * Running on http://localhost:5000\n",
            "INFO:werkzeug:\u001b[33mPress CTRL+C to quit\u001b[0m\n",
            "INFO:werkzeug: * Restarting with stat\n"
          ]
        }
      ]
    },
    {
      "cell_type": "code",
      "source": [
        "from bs4 import BeautifulSoup\n",
        "import requests\n",
        "\n",
        "url = 'https://example.com/job-listings'\n",
        "response = requests.get(url)\n",
        "soup = BeautifulSoup(response.content, 'html.parser')\n",
        "\n",
        "job_titles = [title.text for title in soup.find_all(class_='job-title')]\n",
        "job_texts = [desc.text for desc in soup.find_all(class_='job-description')]\n",
        "\n",
        "additional_job_descriptions = pd.DataFrame({'job_title': job_titles, 'text': job_texts})\n",
        "job_descriptions = pd.concat([job_descriptions, additional_job_descriptions], ignore_index=True)\n"
      ],
      "metadata": {
        "id": "kWZCUZ_Sik71"
      },
      "execution_count": null,
      "outputs": []
    }
  ]
}